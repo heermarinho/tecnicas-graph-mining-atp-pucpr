{
  "nbformat": 4,
  "nbformat_minor": 0,
  "metadata": {
    "colab": {
      "name": "Atividade Somativa 01 - Tecnicas de Graph Mining .ipynb",
      "provenance": [],
      "collapsed_sections": []
    },
    "kernelspec": {
      "name": "python3",
      "display_name": "Python 3"
    },
    "language_info": {
      "name": "python"
    }
  },
  "cells": [
    {
      "cell_type": "markdown",
      "source": [
        "# Atividade Somativa 01 - Tecnicas de Graph Mining 📈\n",
        "\n",
        "----\n",
        "\n",
        "## Aluno: Juan Manoel Marinho Nascimento \n",
        "\n",
        "----\n",
        "\n",
        "Com base na matriz de adjacências armazenada no arquivo Grafo3.csv, realize as tarefas descritas a seguir utilizando a linguagem de programação Python e as bibliotecas adequadas. Para cada tarefa, indique o código de programação utilizado e o resultado obtido.\n",
        "\n",
        "<br>\n",
        "\n",
        "\n",
        "\n",
        "* ✔️  Crie um grafo G considerando os vértices e arestas armazenados no arquivo Grafo3.csv. Verifique se o grafo é direcionado e apresente a resposta na tela (True ou False).\n",
        "* ✔️  Desenhe o grafo G na tela considerando as dimensões 12 x 7.\n",
        "* ✔️  Extraia a quantidade de vértices e de arestas do grafo G.\n",
        "* ✔️  Extraia o grau do vértice 33 do grafo G e responda qual a diferença do grau deste vértice em relação ao grau médio da rede.\n",
        "* ✔️ Extraia o conjunto de arestas que se conectam ao vértice 33 do grafo G e as apresente utilizando uma lista.\n",
        "\n",
        "* ✔️ Apresente a distribuição de graus do grafo G em uma figura com dimensões 10 x 5.\n",
        "\n"
      ],
      "metadata": {
        "id": "MAQyl1sS-IDT"
      }
    },
    {
      "cell_type": "code",
      "execution_count": 1,
      "metadata": {
        "id": "2DxEzzw89Z3F"
      },
      "outputs": [],
      "source": [
        "base = \"https://raw.githubusercontent.com/heermarinho/tecnicas-graph-mining-atp-pucpr/main/Grafo3_semana4%20(1).csv\""
      ]
    },
    {
      "cell_type": "code",
      "source": [
        "import pandas as pd "
      ],
      "metadata": {
        "id": "EIWRPhCd-0GS"
      },
      "execution_count": 2,
      "outputs": []
    },
    {
      "cell_type": "code",
      "source": [
        "import networkx as nx #biblioteca de analise de grafos\n",
        "import matplotlib.pyplot as plt #biblioteca de criação de grafos\n",
        "import numpy as np #biblioteca para utilizar arrays e matrizes  "
      ],
      "metadata": {
        "id": "DviHQs5H-00l"
      },
      "execution_count": 4,
      "outputs": []
    },
    {
      "cell_type": "code",
      "source": [
        "df = pd.read_csv(base, delimiter=',', header=None) #Lê o arquivo csv"
      ],
      "metadata": {
        "id": "uunaTJ5dAXOK"
      },
      "execution_count": 6,
      "outputs": []
    },
    {
      "cell_type": "code",
      "source": [
        "df.head()"
      ],
      "metadata": {
        "colab": {
          "base_uri": "https://localhost:8080/",
          "height": 236
        },
        "id": "HqzqDqKcAebR",
        "outputId": "96492f0b-b64e-4cf9-d2cc-cfa836b0a8aa"
      },
      "execution_count": 8,
      "outputs": [
        {
          "output_type": "execute_result",
          "data": {
            "text/plain": [
              "   0    1    2    3    4    5    6    7    8    9    ...  502  503  504  505  \\\n",
              "0    0    0    0    0    0    0    0    0    0    0  ...    0    0    0    0   \n",
              "1    0    0    1    0    0    0    0    0    0    0  ...    0    0    0    0   \n",
              "2    0    1    0    0    0    0    0    0    0    0  ...    0    0    0    0   \n",
              "3    0    0    0    0    1    0    0    0    0    0  ...    0    0    0    0   \n",
              "4    0    0    0    1    0    0    0    0    0    0  ...    0    0    0    0   \n",
              "\n",
              "   506  507  508  509  510  511  \n",
              "0    0    0    0    0    0    0  \n",
              "1    0    0    0    0    0    0  \n",
              "2    0    0    0    0    0    0  \n",
              "3    0    0    0    0    0    0  \n",
              "4    0    0    0    0    0    0  \n",
              "\n",
              "[5 rows x 512 columns]"
            ],
            "text/html": [
              "\n",
              "  <div id=\"df-1cf17a1a-c66e-4bfe-b115-43b8dedfaec4\">\n",
              "    <div class=\"colab-df-container\">\n",
              "      <div>\n",
              "<style scoped>\n",
              "    .dataframe tbody tr th:only-of-type {\n",
              "        vertical-align: middle;\n",
              "    }\n",
              "\n",
              "    .dataframe tbody tr th {\n",
              "        vertical-align: top;\n",
              "    }\n",
              "\n",
              "    .dataframe thead th {\n",
              "        text-align: right;\n",
              "    }\n",
              "</style>\n",
              "<table border=\"1\" class=\"dataframe\">\n",
              "  <thead>\n",
              "    <tr style=\"text-align: right;\">\n",
              "      <th></th>\n",
              "      <th>0</th>\n",
              "      <th>1</th>\n",
              "      <th>2</th>\n",
              "      <th>3</th>\n",
              "      <th>4</th>\n",
              "      <th>5</th>\n",
              "      <th>6</th>\n",
              "      <th>7</th>\n",
              "      <th>8</th>\n",
              "      <th>9</th>\n",
              "      <th>...</th>\n",
              "      <th>502</th>\n",
              "      <th>503</th>\n",
              "      <th>504</th>\n",
              "      <th>505</th>\n",
              "      <th>506</th>\n",
              "      <th>507</th>\n",
              "      <th>508</th>\n",
              "      <th>509</th>\n",
              "      <th>510</th>\n",
              "      <th>511</th>\n",
              "    </tr>\n",
              "  </thead>\n",
              "  <tbody>\n",
              "    <tr>\n",
              "      <th>0</th>\n",
              "      <td>0</td>\n",
              "      <td>0</td>\n",
              "      <td>0</td>\n",
              "      <td>0</td>\n",
              "      <td>0</td>\n",
              "      <td>0</td>\n",
              "      <td>0</td>\n",
              "      <td>0</td>\n",
              "      <td>0</td>\n",
              "      <td>0</td>\n",
              "      <td>...</td>\n",
              "      <td>0</td>\n",
              "      <td>0</td>\n",
              "      <td>0</td>\n",
              "      <td>0</td>\n",
              "      <td>0</td>\n",
              "      <td>0</td>\n",
              "      <td>0</td>\n",
              "      <td>0</td>\n",
              "      <td>0</td>\n",
              "      <td>0</td>\n",
              "    </tr>\n",
              "    <tr>\n",
              "      <th>1</th>\n",
              "      <td>0</td>\n",
              "      <td>0</td>\n",
              "      <td>1</td>\n",
              "      <td>0</td>\n",
              "      <td>0</td>\n",
              "      <td>0</td>\n",
              "      <td>0</td>\n",
              "      <td>0</td>\n",
              "      <td>0</td>\n",
              "      <td>0</td>\n",
              "      <td>...</td>\n",
              "      <td>0</td>\n",
              "      <td>0</td>\n",
              "      <td>0</td>\n",
              "      <td>0</td>\n",
              "      <td>0</td>\n",
              "      <td>0</td>\n",
              "      <td>0</td>\n",
              "      <td>0</td>\n",
              "      <td>0</td>\n",
              "      <td>0</td>\n",
              "    </tr>\n",
              "    <tr>\n",
              "      <th>2</th>\n",
              "      <td>0</td>\n",
              "      <td>1</td>\n",
              "      <td>0</td>\n",
              "      <td>0</td>\n",
              "      <td>0</td>\n",
              "      <td>0</td>\n",
              "      <td>0</td>\n",
              "      <td>0</td>\n",
              "      <td>0</td>\n",
              "      <td>0</td>\n",
              "      <td>...</td>\n",
              "      <td>0</td>\n",
              "      <td>0</td>\n",
              "      <td>0</td>\n",
              "      <td>0</td>\n",
              "      <td>0</td>\n",
              "      <td>0</td>\n",
              "      <td>0</td>\n",
              "      <td>0</td>\n",
              "      <td>0</td>\n",
              "      <td>0</td>\n",
              "    </tr>\n",
              "    <tr>\n",
              "      <th>3</th>\n",
              "      <td>0</td>\n",
              "      <td>0</td>\n",
              "      <td>0</td>\n",
              "      <td>0</td>\n",
              "      <td>1</td>\n",
              "      <td>0</td>\n",
              "      <td>0</td>\n",
              "      <td>0</td>\n",
              "      <td>0</td>\n",
              "      <td>0</td>\n",
              "      <td>...</td>\n",
              "      <td>0</td>\n",
              "      <td>0</td>\n",
              "      <td>0</td>\n",
              "      <td>0</td>\n",
              "      <td>0</td>\n",
              "      <td>0</td>\n",
              "      <td>0</td>\n",
              "      <td>0</td>\n",
              "      <td>0</td>\n",
              "      <td>0</td>\n",
              "    </tr>\n",
              "    <tr>\n",
              "      <th>4</th>\n",
              "      <td>0</td>\n",
              "      <td>0</td>\n",
              "      <td>0</td>\n",
              "      <td>1</td>\n",
              "      <td>0</td>\n",
              "      <td>0</td>\n",
              "      <td>0</td>\n",
              "      <td>0</td>\n",
              "      <td>0</td>\n",
              "      <td>0</td>\n",
              "      <td>...</td>\n",
              "      <td>0</td>\n",
              "      <td>0</td>\n",
              "      <td>0</td>\n",
              "      <td>0</td>\n",
              "      <td>0</td>\n",
              "      <td>0</td>\n",
              "      <td>0</td>\n",
              "      <td>0</td>\n",
              "      <td>0</td>\n",
              "      <td>0</td>\n",
              "    </tr>\n",
              "  </tbody>\n",
              "</table>\n",
              "<p>5 rows × 512 columns</p>\n",
              "</div>\n",
              "      <button class=\"colab-df-convert\" onclick=\"convertToInteractive('df-1cf17a1a-c66e-4bfe-b115-43b8dedfaec4')\"\n",
              "              title=\"Convert this dataframe to an interactive table.\"\n",
              "              style=\"display:none;\">\n",
              "        \n",
              "  <svg xmlns=\"http://www.w3.org/2000/svg\" height=\"24px\"viewBox=\"0 0 24 24\"\n",
              "       width=\"24px\">\n",
              "    <path d=\"M0 0h24v24H0V0z\" fill=\"none\"/>\n",
              "    <path d=\"M18.56 5.44l.94 2.06.94-2.06 2.06-.94-2.06-.94-.94-2.06-.94 2.06-2.06.94zm-11 1L8.5 8.5l.94-2.06 2.06-.94-2.06-.94L8.5 2.5l-.94 2.06-2.06.94zm10 10l.94 2.06.94-2.06 2.06-.94-2.06-.94-.94-2.06-.94 2.06-2.06.94z\"/><path d=\"M17.41 7.96l-1.37-1.37c-.4-.4-.92-.59-1.43-.59-.52 0-1.04.2-1.43.59L10.3 9.45l-7.72 7.72c-.78.78-.78 2.05 0 2.83L4 21.41c.39.39.9.59 1.41.59.51 0 1.02-.2 1.41-.59l7.78-7.78 2.81-2.81c.8-.78.8-2.07 0-2.86zM5.41 20L4 18.59l7.72-7.72 1.47 1.35L5.41 20z\"/>\n",
              "  </svg>\n",
              "      </button>\n",
              "      \n",
              "  <style>\n",
              "    .colab-df-container {\n",
              "      display:flex;\n",
              "      flex-wrap:wrap;\n",
              "      gap: 12px;\n",
              "    }\n",
              "\n",
              "    .colab-df-convert {\n",
              "      background-color: #E8F0FE;\n",
              "      border: none;\n",
              "      border-radius: 50%;\n",
              "      cursor: pointer;\n",
              "      display: none;\n",
              "      fill: #1967D2;\n",
              "      height: 32px;\n",
              "      padding: 0 0 0 0;\n",
              "      width: 32px;\n",
              "    }\n",
              "\n",
              "    .colab-df-convert:hover {\n",
              "      background-color: #E2EBFA;\n",
              "      box-shadow: 0px 1px 2px rgba(60, 64, 67, 0.3), 0px 1px 3px 1px rgba(60, 64, 67, 0.15);\n",
              "      fill: #174EA6;\n",
              "    }\n",
              "\n",
              "    [theme=dark] .colab-df-convert {\n",
              "      background-color: #3B4455;\n",
              "      fill: #D2E3FC;\n",
              "    }\n",
              "\n",
              "    [theme=dark] .colab-df-convert:hover {\n",
              "      background-color: #434B5C;\n",
              "      box-shadow: 0px 1px 3px 1px rgba(0, 0, 0, 0.15);\n",
              "      filter: drop-shadow(0px 1px 2px rgba(0, 0, 0, 0.3));\n",
              "      fill: #FFFFFF;\n",
              "    }\n",
              "  </style>\n",
              "\n",
              "      <script>\n",
              "        const buttonEl =\n",
              "          document.querySelector('#df-1cf17a1a-c66e-4bfe-b115-43b8dedfaec4 button.colab-df-convert');\n",
              "        buttonEl.style.display =\n",
              "          google.colab.kernel.accessAllowed ? 'block' : 'none';\n",
              "\n",
              "        async function convertToInteractive(key) {\n",
              "          const element = document.querySelector('#df-1cf17a1a-c66e-4bfe-b115-43b8dedfaec4');\n",
              "          const dataTable =\n",
              "            await google.colab.kernel.invokeFunction('convertToInteractive',\n",
              "                                                     [key], {});\n",
              "          if (!dataTable) return;\n",
              "\n",
              "          const docLinkHtml = 'Like what you see? Visit the ' +\n",
              "            '<a target=\"_blank\" href=https://colab.research.google.com/notebooks/data_table.ipynb>data table notebook</a>'\n",
              "            + ' to learn more about interactive tables.';\n",
              "          element.innerHTML = '';\n",
              "          dataTable['output_type'] = 'display_data';\n",
              "          await google.colab.output.renderOutput(dataTable, element);\n",
              "          const docLink = document.createElement('div');\n",
              "          docLink.innerHTML = docLinkHtml;\n",
              "          element.appendChild(docLink);\n",
              "        }\n",
              "      </script>\n",
              "    </div>\n",
              "  </div>\n",
              "  "
            ]
          },
          "metadata": {},
          "execution_count": 8
        }
      ]
    },
    {
      "cell_type": "markdown",
      "source": [
        "### ✔️ Task - 1\n",
        "\n",
        "<p> Crie um grafo G considerando os vértices e arestas armazenados no arquivo Grafo3.csv. Verifique se o grafo é direcionado e apresente a resposta na tela (True ou False).</p>"
      ],
      "metadata": {
        "id": "GxgLmwmvA1WR"
      }
    },
    {
      "cell_type": "code",
      "source": [
        "G = nx.from_pandas_adjacency(df)"
      ],
      "metadata": {
        "id": "LxJOyujkAi4K"
      },
      "execution_count": 12,
      "outputs": []
    },
    {
      "cell_type": "code",
      "source": [
        "G.is_directed() #Verifica se é direcionado"
      ],
      "metadata": {
        "colab": {
          "base_uri": "https://localhost:8080/"
        },
        "id": "KxqP_4qbApXI",
        "outputId": "b59e40d5-b098-4fba-ee18-ea797ca7637d"
      },
      "execution_count": 13,
      "outputs": [
        {
          "output_type": "execute_result",
          "data": {
            "text/plain": [
              "False"
            ]
          },
          "metadata": {},
          "execution_count": 13
        }
      ]
    },
    {
      "cell_type": "code",
      "source": [
        ""
      ],
      "metadata": {
        "id": "smtPk30QAsJZ"
      },
      "execution_count": null,
      "outputs": []
    },
    {
      "cell_type": "markdown",
      "source": [
        "### ✔️ Task - 2\n",
        "\n",
        "<p> Desenhe o grafo G na tela considerando as dimensões 12 x 7.</p>"
      ],
      "metadata": {
        "id": "ooQaGVGmC2NQ"
      }
    },
    {
      "cell_type": "code",
      "source": [
        "plt.figure(figsize=(12,7), dpi=60)\n",
        "plt.title(\"Plot grafo G\")\n",
        "nx.draw(G)"
      ],
      "metadata": {
        "colab": {
          "base_uri": "https://localhost:8080/",
          "height": 359
        },
        "id": "5Ll2_SY1C6OA",
        "outputId": "f8494e3b-f60d-4329-e4d5-5dc7dd040966"
      },
      "execution_count": 19,
      "outputs": [
        {
          "output_type": "display_data",
          "data": {
            "text/plain": [
              "<Figure size 720x420 with 1 Axes>"
            ],
            "image/png": "[encoded data removed]"
          },
          "metadata": {}
        }
      ]
    },
    {
      "cell_type": "markdown",
      "source": [
        "### *✔️* Task - 3\n",
        "\n",
        "<p>  Extraia a quantidade de vértices e de arestas do grafo G.</p>"
      ],
      "metadata": {
        "id": "t67fdkucEaX0"
      }
    },
    {
      "cell_type": "code",
      "source": [
        "print(\"\\tQuantidade de vertices: {} \\n\\tQuantidade de arestas: {}\".format(G.order(), G.size()))"
      ],
      "metadata": {
        "colab": {
          "base_uri": "https://localhost:8080/"
        },
        "id": "3o2EARz_C8sh",
        "outputId": "d0d953b6-1f64-4f89-e385-f52bb9980eb4"
      },
      "execution_count": 21,
      "outputs": [
        {
          "output_type": "stream",
          "name": "stdout",
          "text": [
            "\tQuantidade de vertices: 512 \n",
            "\tQuantidade de arestas: 512\n"
          ]
        }
      ]
    },
    {
      "cell_type": "code",
      "source": [
        ""
      ],
      "metadata": {
        "id": "V-XHZ3GYEy8B"
      },
      "execution_count": null,
      "outputs": []
    },
    {
      "cell_type": "markdown",
      "source": [
        "### *✔️* Task - 4\n",
        "\n",
        " Extraia o grau do vértice 33 do grafo G e responda qual a diferença do grau deste vértice em relação ao grau médio da rede.\n",
        "\n"
      ],
      "metadata": {
        "id": "0iDh97T2FNFe"
      }
    },
    {
      "cell_type": "code",
      "source": [
        "print(\"Grau do vértice 33:\",G.degree(33),\"\\nGráu médio da rede:\",  np.mean(list(dict(G.degree()).values())))"
      ],
      "metadata": {
        "colab": {
          "base_uri": "https://localhost:8080/"
        },
        "id": "9UYbEFj6FT4p",
        "outputId": "cf10ee31-43fb-4408-b645-e6babebb1819"
      },
      "execution_count": 24,
      "outputs": [
        {
          "output_type": "stream",
          "name": "stdout",
          "text": [
            "Grau do vértice 33: 3 \n",
            "Gráu médio da rede: 2.0\n"
          ]
        }
      ]
    },
    {
      "cell_type": "markdown",
      "source": [
        "### *✔️* Task - 5\n",
        "\n",
        " Extraia o conjunto de arestas que se conectam ao vértice 33 do grafo G e as apresente utilizando uma lista.\n",
        "\n",
        "\n"
      ],
      "metadata": {
        "id": "jcJdyYu6FkVJ"
      }
    },
    {
      "cell_type": "code",
      "source": [
        "print(list(G.neighbors(33)))"
      ],
      "metadata": {
        "colab": {
          "base_uri": "https://localhost:8080/"
        },
        "id": "g8aqXh5RFmXg",
        "outputId": "154b6e8a-2d44-4dd1-9668-9e08018d8cc6"
      },
      "execution_count": 25,
      "outputs": [
        {
          "output_type": "stream",
          "name": "stdout",
          "text": [
            "[32, 34, 335]\n"
          ]
        }
      ]
    },
    {
      "cell_type": "markdown",
      "source": [
        "### *✔️* Task - 6\n",
        "\n",
        "* Apresente a distribuição de graus do grafo G em uma figura com dimensões 10 x 5.\n",
        "\n"
      ],
      "metadata": {
        "id": "581S7U3lFnCZ"
      }
    },
    {
      "cell_type": "code",
      "source": [
        "graus = list(dict(G.degree()).values())"
      ],
      "metadata": {
        "id": "Pu6LyGFAFo15"
      },
      "execution_count": 27,
      "outputs": []
    },
    {
      "cell_type": "code",
      "source": [
        "plt.figure(figsize=(10,5))\n",
        "plt.hist(graus)\n",
        "plt.xlabel('GRAU')\n",
        "plt.ylabel('distribuição de graus pelo grafo G')\n",
        "plt.title(\"Plot Distribuição\")\n",
        "\n",
        "plt.show()"
      ],
      "metadata": {
        "colab": {
          "base_uri": "https://localhost:8080/",
          "height": 350
        },
        "id": "ZenejQEsGpyZ",
        "outputId": "8c657e8e-0294-4dd3-b8aa-923acb29ec54"
      },
      "execution_count": 28,
      "outputs": [
        {
          "output_type": "display_data",
          "data": {
            "text/plain": [
              "<Figure size 720x360 with 1 Axes>"
            ],
            "image/png": "[encoded data removed]"
          },
          "metadata": {
            "needs_background": "light"
          }
        }
      ]
    },
    {
      "cell_type": "code",
      "source": [
        ""
      ],
      "metadata": {
        "id": "EELGMWypGsvR"
      },
      "execution_count": null,
      "outputs": []
    },
    {
      "cell_type": "markdown",
      "source": [
        "## FIM !\n",
        "![](https://i.gifer.com/1fZ1.gif)"
      ],
      "metadata": {
        "id": "pyz2bT1oG1OA"
      }
    },
    {
      "cell_type": "code",
      "source": [
        ""
      ],
      "metadata": {
        "id": "E7ctfnGKG9_G"
      },
      "execution_count": null,
      "outputs": []
    }
  ]
}